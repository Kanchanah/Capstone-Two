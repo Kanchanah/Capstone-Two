{
 "cells": [
  {
   "cell_type": "code",
   "execution_count": 1,
   "metadata": {},
   "outputs": [],
   "source": [
    "#import packages\n",
    "import pandas as pd"
   ]
  },
  {
   "cell_type": "code",
   "execution_count": 2,
   "metadata": {},
   "outputs": [
    {
     "name": "stderr",
     "output_type": "stream",
     "text": [
      "/Users/Avinash/opt/anaconda3/lib/python3.7/site-packages/pandas/io/sas/sas7bdat.py:809: PerformanceWarning: DataFrame is highly fragmented.  This is usually the result of calling `frame.insert` many times, which has poor performance.  Consider using pd.concat instead.  To get a de-fragmented frame, use `newframe = frame.copy()`\n",
      "  rslt[name] = self._string_chunk[js, :]\n",
      "/Users/Avinash/opt/anaconda3/lib/python3.7/site-packages/pandas/io/sas/sas7bdat.py:800: PerformanceWarning: DataFrame is highly fragmented.  This is usually the result of calling `frame.insert` many times, which has poor performance.  Consider using pd.concat instead.  To get a de-fragmented frame, use `newframe = frame.copy()`\n",
      "  rslt[name] = self._byte_chunk[jb, :].view(dtype=self.byte_order + \"d\")\n"
     ]
    }
   ],
   "source": [
    "#import person data\n",
    "data_person=pd.read_sas('../Capstone_Two_Other_Material/sas/perpub.sas7bdat', format = 'sas7bdat', encoding=\"ISO-8859-1\")"
   ]
  },
  {
   "cell_type": "code",
   "execution_count": 3,
   "metadata": {},
   "outputs": [
    {
     "data": {
      "text/html": [
       "<div>\n",
       "<style scoped>\n",
       "    .dataframe tbody tr th:only-of-type {\n",
       "        vertical-align: middle;\n",
       "    }\n",
       "\n",
       "    .dataframe tbody tr th {\n",
       "        vertical-align: top;\n",
       "    }\n",
       "\n",
       "    .dataframe thead th {\n",
       "        text-align: right;\n",
       "    }\n",
       "</style>\n",
       "<table border=\"1\" class=\"dataframe\">\n",
       "  <thead>\n",
       "    <tr style=\"text-align: right;\">\n",
       "      <th></th>\n",
       "      <th>HOUSEID</th>\n",
       "      <th>PERSONID</th>\n",
       "      <th>R_AGE</th>\n",
       "      <th>EDUC</th>\n",
       "      <th>R_HISP</th>\n",
       "      <th>R_RELAT</th>\n",
       "      <th>R_SEX</th>\n",
       "      <th>R_RACE</th>\n",
       "      <th>PRMACT</th>\n",
       "      <th>PAYPROF</th>\n",
       "      <th>...</th>\n",
       "      <th>SMPLSRCE</th>\n",
       "      <th>WTPERFIN</th>\n",
       "      <th>HBHUR</th>\n",
       "      <th>HTHTNRNT</th>\n",
       "      <th>HTPPOPDN</th>\n",
       "      <th>HTRESDN</th>\n",
       "      <th>HTEEMPDN</th>\n",
       "      <th>HBHTNRNT</th>\n",
       "      <th>HBPPOPDN</th>\n",
       "      <th>HBRESDN</th>\n",
       "    </tr>\n",
       "  </thead>\n",
       "  <tbody>\n",
       "    <tr>\n",
       "      <th>0</th>\n",
       "      <td>30000007</td>\n",
       "      <td>01</td>\n",
       "      <td>67.0</td>\n",
       "      <td>03</td>\n",
       "      <td>02</td>\n",
       "      <td>01</td>\n",
       "      <td>02</td>\n",
       "      <td>02</td>\n",
       "      <td>06</td>\n",
       "      <td>02</td>\n",
       "      <td>...</td>\n",
       "      <td>02</td>\n",
       "      <td>206.690153</td>\n",
       "      <td>T</td>\n",
       "      <td>50</td>\n",
       "      <td>1500</td>\n",
       "      <td>750</td>\n",
       "      <td>750</td>\n",
       "      <td>20</td>\n",
       "      <td>750</td>\n",
       "      <td>300</td>\n",
       "    </tr>\n",
       "    <tr>\n",
       "      <th>1</th>\n",
       "      <td>30000007</td>\n",
       "      <td>02</td>\n",
       "      <td>66.0</td>\n",
       "      <td>03</td>\n",
       "      <td>02</td>\n",
       "      <td>02</td>\n",
       "      <td>01</td>\n",
       "      <td>02</td>\n",
       "      <td>01</td>\n",
       "      <td>-1</td>\n",
       "      <td>...</td>\n",
       "      <td>02</td>\n",
       "      <td>197.075742</td>\n",
       "      <td>T</td>\n",
       "      <td>50</td>\n",
       "      <td>1500</td>\n",
       "      <td>750</td>\n",
       "      <td>750</td>\n",
       "      <td>20</td>\n",
       "      <td>750</td>\n",
       "      <td>300</td>\n",
       "    </tr>\n",
       "    <tr>\n",
       "      <th>2</th>\n",
       "      <td>30000007</td>\n",
       "      <td>03</td>\n",
       "      <td>28.0</td>\n",
       "      <td>02</td>\n",
       "      <td>02</td>\n",
       "      <td>03</td>\n",
       "      <td>02</td>\n",
       "      <td>02</td>\n",
       "      <td>05</td>\n",
       "      <td>02</td>\n",
       "      <td>...</td>\n",
       "      <td>02</td>\n",
       "      <td>219.514210</td>\n",
       "      <td>T</td>\n",
       "      <td>50</td>\n",
       "      <td>1500</td>\n",
       "      <td>750</td>\n",
       "      <td>750</td>\n",
       "      <td>20</td>\n",
       "      <td>750</td>\n",
       "      <td>300</td>\n",
       "    </tr>\n",
       "    <tr>\n",
       "      <th>3</th>\n",
       "      <td>30000008</td>\n",
       "      <td>01</td>\n",
       "      <td>55.0</td>\n",
       "      <td>05</td>\n",
       "      <td>02</td>\n",
       "      <td>01</td>\n",
       "      <td>01</td>\n",
       "      <td>01</td>\n",
       "      <td>01</td>\n",
       "      <td>-1</td>\n",
       "      <td>...</td>\n",
       "      <td>02</td>\n",
       "      <td>63.185911</td>\n",
       "      <td>R</td>\n",
       "      <td>05</td>\n",
       "      <td>300</td>\n",
       "      <td>300</td>\n",
       "      <td>150</td>\n",
       "      <td>05</td>\n",
       "      <td>300</td>\n",
       "      <td>300</td>\n",
       "    </tr>\n",
       "    <tr>\n",
       "      <th>4</th>\n",
       "      <td>30000008</td>\n",
       "      <td>02</td>\n",
       "      <td>49.0</td>\n",
       "      <td>04</td>\n",
       "      <td>02</td>\n",
       "      <td>02</td>\n",
       "      <td>02</td>\n",
       "      <td>01</td>\n",
       "      <td>01</td>\n",
       "      <td>-1</td>\n",
       "      <td>...</td>\n",
       "      <td>02</td>\n",
       "      <td>58.665911</td>\n",
       "      <td>R</td>\n",
       "      <td>05</td>\n",
       "      <td>300</td>\n",
       "      <td>300</td>\n",
       "      <td>150</td>\n",
       "      <td>05</td>\n",
       "      <td>300</td>\n",
       "      <td>300</td>\n",
       "    </tr>\n",
       "  </tbody>\n",
       "</table>\n",
       "<p>5 rows × 121 columns</p>\n",
       "</div>"
      ],
      "text/plain": [
       "    HOUSEID PERSONID  R_AGE EDUC R_HISP R_RELAT R_SEX R_RACE PRMACT PAYPROF  \\\n",
       "0  30000007       01   67.0   03     02      01    02     02     06      02   \n",
       "1  30000007       02   66.0   03     02      02    01     02     01      -1   \n",
       "2  30000007       03   28.0   02     02      03    02     02     05      02   \n",
       "3  30000008       01   55.0   05     02      01    01     01     01      -1   \n",
       "4  30000008       02   49.0   04     02      02    02     01     01      -1   \n",
       "\n",
       "   ... SMPLSRCE    WTPERFIN HBHUR HTHTNRNT HTPPOPDN HTRESDN HTEEMPDN  \\\n",
       "0  ...       02  206.690153     T       50     1500     750      750   \n",
       "1  ...       02  197.075742     T       50     1500     750      750   \n",
       "2  ...       02  219.514210     T       50     1500     750      750   \n",
       "3  ...       02   63.185911     R       05      300     300      150   \n",
       "4  ...       02   58.665911     R       05      300     300      150   \n",
       "\n",
       "   HBHTNRNT  HBPPOPDN  HBRESDN  \n",
       "0        20       750      300  \n",
       "1        20       750      300  \n",
       "2        20       750      300  \n",
       "3        05       300      300  \n",
       "4        05       300      300  \n",
       "\n",
       "[5 rows x 121 columns]"
      ]
     },
     "execution_count": 3,
     "metadata": {},
     "output_type": "execute_result"
    }
   ],
   "source": [
    "#Look at first few rows\n",
    "data_person.head()"
   ]
  },
  {
   "cell_type": "code",
   "execution_count": 4,
   "metadata": {},
   "outputs": [
    {
     "data": {
      "text/plain": [
       "(264234, 121)"
      ]
     },
     "execution_count": 4,
     "metadata": {},
     "output_type": "execute_result"
    }
   ],
   "source": [
    "#Looks at dimension\n",
    "data_person.shape"
   ]
  },
  {
   "cell_type": "code",
   "execution_count": 5,
   "metadata": {},
   "outputs": [],
   "source": [
    "#import household data\n",
    "data_hh=pd.read_sas('../Capstone_Two_Other_Material/sas/hhpub.sas7bdat', format = 'sas7bdat', encoding=\"ISO-8859-1\")"
   ]
  },
  {
   "cell_type": "code",
   "execution_count": 6,
   "metadata": {},
   "outputs": [
    {
     "data": {
      "text/html": [
       "<div>\n",
       "<style scoped>\n",
       "    .dataframe tbody tr th:only-of-type {\n",
       "        vertical-align: middle;\n",
       "    }\n",
       "\n",
       "    .dataframe tbody tr th {\n",
       "        vertical-align: top;\n",
       "    }\n",
       "\n",
       "    .dataframe thead th {\n",
       "        text-align: right;\n",
       "    }\n",
       "</style>\n",
       "<table border=\"1\" class=\"dataframe\">\n",
       "  <thead>\n",
       "    <tr style=\"text-align: right;\">\n",
       "      <th></th>\n",
       "      <th>HOUSEID</th>\n",
       "      <th>TRAVDAY</th>\n",
       "      <th>SAMPSTRAT</th>\n",
       "      <th>HOMEOWN</th>\n",
       "      <th>HHSIZE</th>\n",
       "      <th>HHVEHCNT</th>\n",
       "      <th>HHFAMINC</th>\n",
       "      <th>PC</th>\n",
       "      <th>SPHONE</th>\n",
       "      <th>TAB</th>\n",
       "      <th>...</th>\n",
       "      <th>SMPLSRCE</th>\n",
       "      <th>WTHHFIN</th>\n",
       "      <th>HBHUR</th>\n",
       "      <th>HTHTNRNT</th>\n",
       "      <th>HTPPOPDN</th>\n",
       "      <th>HTRESDN</th>\n",
       "      <th>HTEEMPDN</th>\n",
       "      <th>HBHTNRNT</th>\n",
       "      <th>HBPPOPDN</th>\n",
       "      <th>HBRESDN</th>\n",
       "    </tr>\n",
       "  </thead>\n",
       "  <tbody>\n",
       "    <tr>\n",
       "      <th>0</th>\n",
       "      <td>30000007</td>\n",
       "      <td>02</td>\n",
       "      <td>03</td>\n",
       "      <td>01</td>\n",
       "      <td>3.0</td>\n",
       "      <td>5.0</td>\n",
       "      <td>07</td>\n",
       "      <td>02</td>\n",
       "      <td>01</td>\n",
       "      <td>02</td>\n",
       "      <td>...</td>\n",
       "      <td>02</td>\n",
       "      <td>187.314320</td>\n",
       "      <td>T</td>\n",
       "      <td>50</td>\n",
       "      <td>1500</td>\n",
       "      <td>750</td>\n",
       "      <td>750</td>\n",
       "      <td>20</td>\n",
       "      <td>750</td>\n",
       "      <td>300</td>\n",
       "    </tr>\n",
       "    <tr>\n",
       "      <th>1</th>\n",
       "      <td>30000008</td>\n",
       "      <td>05</td>\n",
       "      <td>02</td>\n",
       "      <td>01</td>\n",
       "      <td>2.0</td>\n",
       "      <td>4.0</td>\n",
       "      <td>08</td>\n",
       "      <td>01</td>\n",
       "      <td>01</td>\n",
       "      <td>02</td>\n",
       "      <td>...</td>\n",
       "      <td>02</td>\n",
       "      <td>69.513032</td>\n",
       "      <td>R</td>\n",
       "      <td>05</td>\n",
       "      <td>300</td>\n",
       "      <td>300</td>\n",
       "      <td>150</td>\n",
       "      <td>05</td>\n",
       "      <td>300</td>\n",
       "      <td>300</td>\n",
       "    </tr>\n",
       "    <tr>\n",
       "      <th>2</th>\n",
       "      <td>30000012</td>\n",
       "      <td>05</td>\n",
       "      <td>03</td>\n",
       "      <td>01</td>\n",
       "      <td>1.0</td>\n",
       "      <td>2.0</td>\n",
       "      <td>10</td>\n",
       "      <td>01</td>\n",
       "      <td>01</td>\n",
       "      <td>03</td>\n",
       "      <td>...</td>\n",
       "      <td>02</td>\n",
       "      <td>79.419586</td>\n",
       "      <td>C</td>\n",
       "      <td>80</td>\n",
       "      <td>17000</td>\n",
       "      <td>17000</td>\n",
       "      <td>5000</td>\n",
       "      <td>60</td>\n",
       "      <td>17000</td>\n",
       "      <td>7000</td>\n",
       "    </tr>\n",
       "    <tr>\n",
       "      <th>3</th>\n",
       "      <td>30000019</td>\n",
       "      <td>05</td>\n",
       "      <td>03</td>\n",
       "      <td>01</td>\n",
       "      <td>2.0</td>\n",
       "      <td>2.0</td>\n",
       "      <td>03</td>\n",
       "      <td>01</td>\n",
       "      <td>05</td>\n",
       "      <td>05</td>\n",
       "      <td>...</td>\n",
       "      <td>02</td>\n",
       "      <td>279.143588</td>\n",
       "      <td>S</td>\n",
       "      <td>40</td>\n",
       "      <td>300</td>\n",
       "      <td>300</td>\n",
       "      <td>150</td>\n",
       "      <td>50</td>\n",
       "      <td>750</td>\n",
       "      <td>300</td>\n",
       "    </tr>\n",
       "    <tr>\n",
       "      <th>4</th>\n",
       "      <td>30000029</td>\n",
       "      <td>03</td>\n",
       "      <td>03</td>\n",
       "      <td>01</td>\n",
       "      <td>2.0</td>\n",
       "      <td>2.0</td>\n",
       "      <td>05</td>\n",
       "      <td>02</td>\n",
       "      <td>05</td>\n",
       "      <td>01</td>\n",
       "      <td>...</td>\n",
       "      <td>02</td>\n",
       "      <td>103.240304</td>\n",
       "      <td>S</td>\n",
       "      <td>40</td>\n",
       "      <td>1500</td>\n",
       "      <td>750</td>\n",
       "      <td>750</td>\n",
       "      <td>40</td>\n",
       "      <td>1500</td>\n",
       "      <td>750</td>\n",
       "    </tr>\n",
       "  </tbody>\n",
       "</table>\n",
       "<p>5 rows × 58 columns</p>\n",
       "</div>"
      ],
      "text/plain": [
       "    HOUSEID TRAVDAY SAMPSTRAT HOMEOWN  HHSIZE  HHVEHCNT HHFAMINC  PC SPHONE  \\\n",
       "0  30000007      02        03      01     3.0       5.0       07  02     01   \n",
       "1  30000008      05        02      01     2.0       4.0       08  01     01   \n",
       "2  30000012      05        03      01     1.0       2.0       10  01     01   \n",
       "3  30000019      05        03      01     2.0       2.0       03  01     05   \n",
       "4  30000029      03        03      01     2.0       2.0       05  02     05   \n",
       "\n",
       "  TAB  ... SMPLSRCE     WTHHFIN HBHUR HTHTNRNT HTPPOPDN HTRESDN HTEEMPDN  \\\n",
       "0  02  ...       02  187.314320     T       50     1500     750      750   \n",
       "1  02  ...       02   69.513032     R       05      300     300      150   \n",
       "2  03  ...       02   79.419586     C       80    17000   17000     5000   \n",
       "3  05  ...       02  279.143588     S       40      300     300      150   \n",
       "4  01  ...       02  103.240304     S       40     1500     750      750   \n",
       "\n",
       "  HBHTNRNT HBPPOPDN HBRESDN  \n",
       "0       20      750     300  \n",
       "1       05      300     300  \n",
       "2       60    17000    7000  \n",
       "3       50      750     300  \n",
       "4       40     1500     750  \n",
       "\n",
       "[5 rows x 58 columns]"
      ]
     },
     "execution_count": 6,
     "metadata": {},
     "output_type": "execute_result"
    }
   ],
   "source": [
    "#Look at first few rows\n",
    "data_hh.head()"
   ]
  },
  {
   "cell_type": "code",
   "execution_count": 7,
   "metadata": {},
   "outputs": [
    {
     "data": {
      "text/plain": [
       "(129696, 58)"
      ]
     },
     "execution_count": 7,
     "metadata": {},
     "output_type": "execute_result"
    }
   ],
   "source": [
    "#Look at dimension\n",
    "data_hh.shape"
   ]
  },
  {
   "cell_type": "code",
   "execution_count": 8,
   "metadata": {},
   "outputs": [
    {
     "name": "stderr",
     "output_type": "stream",
     "text": [
      "/Users/Avinash/opt/anaconda3/lib/python3.7/site-packages/pandas/io/sas/sas7bdat.py:809: PerformanceWarning: DataFrame is highly fragmented.  This is usually the result of calling `frame.insert` many times, which has poor performance.  Consider using pd.concat instead.  To get a de-fragmented frame, use `newframe = frame.copy()`\n",
      "  rslt[name] = self._string_chunk[js, :]\n"
     ]
    }
   ],
   "source": [
    "#import trip data\n",
    "data_trip=pd.read_sas('../Capstone_Two_Other_Material/sas/trippub.sas7bdat', format = 'sas7bdat', encoding=\"ISO-8859-1\")"
   ]
  },
  {
   "cell_type": "code",
   "execution_count": 9,
   "metadata": {},
   "outputs": [
    {
     "data": {
      "text/html": [
       "<div>\n",
       "<style scoped>\n",
       "    .dataframe tbody tr th:only-of-type {\n",
       "        vertical-align: middle;\n",
       "    }\n",
       "\n",
       "    .dataframe tbody tr th {\n",
       "        vertical-align: top;\n",
       "    }\n",
       "\n",
       "    .dataframe thead th {\n",
       "        text-align: right;\n",
       "    }\n",
       "</style>\n",
       "<table border=\"1\" class=\"dataframe\">\n",
       "  <thead>\n",
       "    <tr style=\"text-align: right;\">\n",
       "      <th></th>\n",
       "      <th>HOUSEID</th>\n",
       "      <th>PERSONID</th>\n",
       "      <th>TDTRPNUM</th>\n",
       "      <th>STRTTIME</th>\n",
       "      <th>ENDTIME</th>\n",
       "      <th>TRVLCMIN</th>\n",
       "      <th>TRPMILES</th>\n",
       "      <th>TRPTRANS</th>\n",
       "      <th>TRPACCMP</th>\n",
       "      <th>TRPHHACC</th>\n",
       "      <th>...</th>\n",
       "      <th>OBHTNRNT</th>\n",
       "      <th>OBPPOPDN</th>\n",
       "      <th>OBRESDN</th>\n",
       "      <th>DTHTNRNT</th>\n",
       "      <th>DTPPOPDN</th>\n",
       "      <th>DTRESDN</th>\n",
       "      <th>DTEEMPDN</th>\n",
       "      <th>DBHTNRNT</th>\n",
       "      <th>DBPPOPDN</th>\n",
       "      <th>DBRESDN</th>\n",
       "    </tr>\n",
       "  </thead>\n",
       "  <tbody>\n",
       "    <tr>\n",
       "      <th>0</th>\n",
       "      <td>30000007</td>\n",
       "      <td>01</td>\n",
       "      <td>01</td>\n",
       "      <td>1000</td>\n",
       "      <td>1015</td>\n",
       "      <td>15.0</td>\n",
       "      <td>5.244</td>\n",
       "      <td>03</td>\n",
       "      <td>0.0</td>\n",
       "      <td>0.0</td>\n",
       "      <td>...</td>\n",
       "      <td>20</td>\n",
       "      <td>750</td>\n",
       "      <td>300</td>\n",
       "      <td>50</td>\n",
       "      <td>750</td>\n",
       "      <td>300</td>\n",
       "      <td>350</td>\n",
       "      <td>30</td>\n",
       "      <td>300</td>\n",
       "      <td>300</td>\n",
       "    </tr>\n",
       "    <tr>\n",
       "      <th>1</th>\n",
       "      <td>30000007</td>\n",
       "      <td>01</td>\n",
       "      <td>02</td>\n",
       "      <td>1510</td>\n",
       "      <td>1530</td>\n",
       "      <td>20.0</td>\n",
       "      <td>5.149</td>\n",
       "      <td>03</td>\n",
       "      <td>0.0</td>\n",
       "      <td>0.0</td>\n",
       "      <td>...</td>\n",
       "      <td>30</td>\n",
       "      <td>300</td>\n",
       "      <td>300</td>\n",
       "      <td>50</td>\n",
       "      <td>1500</td>\n",
       "      <td>750</td>\n",
       "      <td>750</td>\n",
       "      <td>20</td>\n",
       "      <td>750</td>\n",
       "      <td>300</td>\n",
       "    </tr>\n",
       "    <tr>\n",
       "      <th>2</th>\n",
       "      <td>30000007</td>\n",
       "      <td>02</td>\n",
       "      <td>01</td>\n",
       "      <td>0700</td>\n",
       "      <td>0900</td>\n",
       "      <td>120.0</td>\n",
       "      <td>84.004</td>\n",
       "      <td>06</td>\n",
       "      <td>0.0</td>\n",
       "      <td>0.0</td>\n",
       "      <td>...</td>\n",
       "      <td>40</td>\n",
       "      <td>1500</td>\n",
       "      <td>750</td>\n",
       "      <td>50</td>\n",
       "      <td>1500</td>\n",
       "      <td>750</td>\n",
       "      <td>750</td>\n",
       "      <td>20</td>\n",
       "      <td>750</td>\n",
       "      <td>300</td>\n",
       "    </tr>\n",
       "    <tr>\n",
       "      <th>3</th>\n",
       "      <td>30000007</td>\n",
       "      <td>02</td>\n",
       "      <td>02</td>\n",
       "      <td>1800</td>\n",
       "      <td>2030</td>\n",
       "      <td>150.0</td>\n",
       "      <td>81.628</td>\n",
       "      <td>06</td>\n",
       "      <td>0.0</td>\n",
       "      <td>0.0</td>\n",
       "      <td>...</td>\n",
       "      <td>20</td>\n",
       "      <td>750</td>\n",
       "      <td>300</td>\n",
       "      <td>40</td>\n",
       "      <td>1500</td>\n",
       "      <td>750</td>\n",
       "      <td>750</td>\n",
       "      <td>40</td>\n",
       "      <td>1500</td>\n",
       "      <td>750</td>\n",
       "    </tr>\n",
       "    <tr>\n",
       "      <th>4</th>\n",
       "      <td>30000007</td>\n",
       "      <td>03</td>\n",
       "      <td>01</td>\n",
       "      <td>0845</td>\n",
       "      <td>0900</td>\n",
       "      <td>15.0</td>\n",
       "      <td>2.250</td>\n",
       "      <td>03</td>\n",
       "      <td>0.0</td>\n",
       "      <td>0.0</td>\n",
       "      <td>...</td>\n",
       "      <td>20</td>\n",
       "      <td>750</td>\n",
       "      <td>300</td>\n",
       "      <td>50</td>\n",
       "      <td>750</td>\n",
       "      <td>300</td>\n",
       "      <td>350</td>\n",
       "      <td>60</td>\n",
       "      <td>750</td>\n",
       "      <td>300</td>\n",
       "    </tr>\n",
       "  </tbody>\n",
       "</table>\n",
       "<p>5 rows × 115 columns</p>\n",
       "</div>"
      ],
      "text/plain": [
       "    HOUSEID PERSONID TDTRPNUM STRTTIME ENDTIME  TRVLCMIN  TRPMILES TRPTRANS  \\\n",
       "0  30000007       01       01     1000    1015      15.0     5.244       03   \n",
       "1  30000007       01       02     1510    1530      20.0     5.149       03   \n",
       "2  30000007       02       01     0700    0900     120.0    84.004       06   \n",
       "3  30000007       02       02     1800    2030     150.0    81.628       06   \n",
       "4  30000007       03       01     0845    0900      15.0     2.250       03   \n",
       "\n",
       "   TRPACCMP  TRPHHACC  ... OBHTNRNT  OBPPOPDN  OBRESDN  DTHTNRNT DTPPOPDN  \\\n",
       "0       0.0       0.0  ...       20       750      300        50      750   \n",
       "1       0.0       0.0  ...       30       300      300        50     1500   \n",
       "2       0.0       0.0  ...       40      1500      750        50     1500   \n",
       "3       0.0       0.0  ...       20       750      300        40     1500   \n",
       "4       0.0       0.0  ...       20       750      300        50      750   \n",
       "\n",
       "   DTRESDN DTEEMPDN DBHTNRNT DBPPOPDN DBRESDN  \n",
       "0      300      350       30      300     300  \n",
       "1      750      750       20      750     300  \n",
       "2      750      750       20      750     300  \n",
       "3      750      750       40     1500     750  \n",
       "4      300      350       60      750     300  \n",
       "\n",
       "[5 rows x 115 columns]"
      ]
     },
     "execution_count": 9,
     "metadata": {},
     "output_type": "execute_result"
    }
   ],
   "source": [
    "#Look at first few rows\n",
    "data_trip.head()"
   ]
  },
  {
   "cell_type": "code",
   "execution_count": 10,
   "metadata": {},
   "outputs": [
    {
     "data": {
      "text/plain": [
       "(923572, 115)"
      ]
     },
     "execution_count": 10,
     "metadata": {},
     "output_type": "execute_result"
    }
   ],
   "source": [
    "#Look at dimension\n",
    "data_trip.shape"
   ]
  },
  {
   "cell_type": "code",
   "execution_count": 11,
   "metadata": {},
   "outputs": [],
   "source": [
    "#import vehicle data\n",
    "data_veh=pd.read_sas('../Capstone_Two_Other_Material/sas/vehpub.sas7bdat', format = 'sas7bdat', encoding=\"ISO-8859-1\")"
   ]
  },
  {
   "cell_type": "code",
   "execution_count": 12,
   "metadata": {},
   "outputs": [
    {
     "data": {
      "text/html": [
       "<div>\n",
       "<style scoped>\n",
       "    .dataframe tbody tr th:only-of-type {\n",
       "        vertical-align: middle;\n",
       "    }\n",
       "\n",
       "    .dataframe tbody tr th {\n",
       "        vertical-align: top;\n",
       "    }\n",
       "\n",
       "    .dataframe thead th {\n",
       "        text-align: right;\n",
       "    }\n",
       "</style>\n",
       "<table border=\"1\" class=\"dataframe\">\n",
       "  <thead>\n",
       "    <tr style=\"text-align: right;\">\n",
       "      <th></th>\n",
       "      <th>HOUSEID</th>\n",
       "      <th>VEHID</th>\n",
       "      <th>VEHYEAR</th>\n",
       "      <th>VEHAGE</th>\n",
       "      <th>MAKE</th>\n",
       "      <th>MODEL</th>\n",
       "      <th>FUELTYPE</th>\n",
       "      <th>VEHTYPE</th>\n",
       "      <th>WHOMAIN</th>\n",
       "      <th>OD_READ</th>\n",
       "      <th>...</th>\n",
       "      <th>HTEEMPDN</th>\n",
       "      <th>HBHTNRNT</th>\n",
       "      <th>HBPPOPDN</th>\n",
       "      <th>HBRESDN</th>\n",
       "      <th>GSYRGAL</th>\n",
       "      <th>GSTOTCST</th>\n",
       "      <th>FEGEMPG</th>\n",
       "      <th>FEGEMPGA</th>\n",
       "      <th>GSCOST</th>\n",
       "      <th>FEGEMPGF</th>\n",
       "    </tr>\n",
       "  </thead>\n",
       "  <tbody>\n",
       "    <tr>\n",
       "      <th>0</th>\n",
       "      <td>30000007</td>\n",
       "      <td>01</td>\n",
       "      <td>2007.0</td>\n",
       "      <td>10.0</td>\n",
       "      <td>49</td>\n",
       "      <td>49032</td>\n",
       "      <td>01</td>\n",
       "      <td>01</td>\n",
       "      <td>03</td>\n",
       "      <td>69000.0</td>\n",
       "      <td>...</td>\n",
       "      <td>750</td>\n",
       "      <td>20</td>\n",
       "      <td>750</td>\n",
       "      <td>300</td>\n",
       "      <td>487.064221</td>\n",
       "      <td>1126.457778</td>\n",
       "      <td>30.0</td>\n",
       "      <td>-9.0</td>\n",
       "      <td>2.31275</td>\n",
       "      <td>01</td>\n",
       "    </tr>\n",
       "    <tr>\n",
       "      <th>1</th>\n",
       "      <td>30000007</td>\n",
       "      <td>02</td>\n",
       "      <td>2004.0</td>\n",
       "      <td>13.0</td>\n",
       "      <td>49</td>\n",
       "      <td>49442</td>\n",
       "      <td>01</td>\n",
       "      <td>02</td>\n",
       "      <td>-8</td>\n",
       "      <td>164000.0</td>\n",
       "      <td>...</td>\n",
       "      <td>750</td>\n",
       "      <td>20</td>\n",
       "      <td>750</td>\n",
       "      <td>300</td>\n",
       "      <td>250.899523</td>\n",
       "      <td>580.267873</td>\n",
       "      <td>19.0</td>\n",
       "      <td>-9.0</td>\n",
       "      <td>2.31275</td>\n",
       "      <td>01</td>\n",
       "    </tr>\n",
       "    <tr>\n",
       "      <th>2</th>\n",
       "      <td>30000007</td>\n",
       "      <td>03</td>\n",
       "      <td>1998.0</td>\n",
       "      <td>19.0</td>\n",
       "      <td>19</td>\n",
       "      <td>19014</td>\n",
       "      <td>01</td>\n",
       "      <td>01</td>\n",
       "      <td>01</td>\n",
       "      <td>120000.0</td>\n",
       "      <td>...</td>\n",
       "      <td>750</td>\n",
       "      <td>20</td>\n",
       "      <td>750</td>\n",
       "      <td>300</td>\n",
       "      <td>444.462475</td>\n",
       "      <td>1027.930589</td>\n",
       "      <td>18.0</td>\n",
       "      <td>-9.0</td>\n",
       "      <td>2.31275</td>\n",
       "      <td>01</td>\n",
       "    </tr>\n",
       "    <tr>\n",
       "      <th>3</th>\n",
       "      <td>30000007</td>\n",
       "      <td>04</td>\n",
       "      <td>1997.0</td>\n",
       "      <td>20.0</td>\n",
       "      <td>19</td>\n",
       "      <td>19021</td>\n",
       "      <td>01</td>\n",
       "      <td>01</td>\n",
       "      <td>02</td>\n",
       "      <td>-88.0</td>\n",
       "      <td>...</td>\n",
       "      <td>750</td>\n",
       "      <td>20</td>\n",
       "      <td>750</td>\n",
       "      <td>300</td>\n",
       "      <td>40.329575</td>\n",
       "      <td>93.272224</td>\n",
       "      <td>18.0</td>\n",
       "      <td>-9.0</td>\n",
       "      <td>2.31275</td>\n",
       "      <td>01</td>\n",
       "    </tr>\n",
       "    <tr>\n",
       "      <th>4</th>\n",
       "      <td>30000007</td>\n",
       "      <td>05</td>\n",
       "      <td>1993.0</td>\n",
       "      <td>24.0</td>\n",
       "      <td>20</td>\n",
       "      <td>20481</td>\n",
       "      <td>01</td>\n",
       "      <td>04</td>\n",
       "      <td>02</td>\n",
       "      <td>300000.0</td>\n",
       "      <td>...</td>\n",
       "      <td>750</td>\n",
       "      <td>20</td>\n",
       "      <td>750</td>\n",
       "      <td>300</td>\n",
       "      <td>888.404197</td>\n",
       "      <td>2054.656806</td>\n",
       "      <td>14.0</td>\n",
       "      <td>-9.0</td>\n",
       "      <td>2.31275</td>\n",
       "      <td>01</td>\n",
       "    </tr>\n",
       "  </tbody>\n",
       "</table>\n",
       "<p>5 rows × 60 columns</p>\n",
       "</div>"
      ],
      "text/plain": [
       "    HOUSEID VEHID  VEHYEAR  VEHAGE MAKE  MODEL FUELTYPE VEHTYPE WHOMAIN  \\\n",
       "0  30000007    01   2007.0    10.0   49  49032       01      01      03   \n",
       "1  30000007    02   2004.0    13.0   49  49442       01      02      -8   \n",
       "2  30000007    03   1998.0    19.0   19  19014       01      01      01   \n",
       "3  30000007    04   1997.0    20.0   19  19021       01      01      02   \n",
       "4  30000007    05   1993.0    24.0   20  20481       01      04      02   \n",
       "\n",
       "    OD_READ  ... HTEEMPDN HBHTNRNT HBPPOPDN  HBRESDN     GSYRGAL     GSTOTCST  \\\n",
       "0   69000.0  ...      750       20      750      300  487.064221  1126.457778   \n",
       "1  164000.0  ...      750       20      750      300  250.899523   580.267873   \n",
       "2  120000.0  ...      750       20      750      300  444.462475  1027.930589   \n",
       "3     -88.0  ...      750       20      750      300   40.329575    93.272224   \n",
       "4  300000.0  ...      750       20      750      300  888.404197  2054.656806   \n",
       "\n",
       "  FEGEMPG FEGEMPGA   GSCOST  FEGEMPGF  \n",
       "0    30.0     -9.0  2.31275        01  \n",
       "1    19.0     -9.0  2.31275        01  \n",
       "2    18.0     -9.0  2.31275        01  \n",
       "3    18.0     -9.0  2.31275        01  \n",
       "4    14.0     -9.0  2.31275        01  \n",
       "\n",
       "[5 rows x 60 columns]"
      ]
     },
     "execution_count": 12,
     "metadata": {},
     "output_type": "execute_result"
    }
   ],
   "source": [
    "#Look at first few rows\n",
    "data_veh.head()"
   ]
  },
  {
   "cell_type": "code",
   "execution_count": 13,
   "metadata": {},
   "outputs": [
    {
     "data": {
      "text/plain": [
       "(256115, 60)"
      ]
     },
     "execution_count": 13,
     "metadata": {},
     "output_type": "execute_result"
    }
   ],
   "source": [
    "#Look at dimension\n",
    "data_veh.shape"
   ]
  },
  {
   "cell_type": "code",
   "execution_count": 14,
   "metadata": {},
   "outputs": [],
   "source": [
    "#merge datasets\n",
    "#merge person and household data\n",
    "data_hh_veh = pd.merge(data_hh,data_veh,on=['HOUSEID'])"
   ]
  },
  {
   "cell_type": "code",
   "execution_count": 15,
   "metadata": {},
   "outputs": [
    {
     "data": {
      "text/html": [
       "<div>\n",
       "<style scoped>\n",
       "    .dataframe tbody tr th:only-of-type {\n",
       "        vertical-align: middle;\n",
       "    }\n",
       "\n",
       "    .dataframe tbody tr th {\n",
       "        vertical-align: top;\n",
       "    }\n",
       "\n",
       "    .dataframe thead th {\n",
       "        text-align: right;\n",
       "    }\n",
       "</style>\n",
       "<table border=\"1\" class=\"dataframe\">\n",
       "  <thead>\n",
       "    <tr style=\"text-align: right;\">\n",
       "      <th></th>\n",
       "      <th>HOUSEID</th>\n",
       "      <th>TRAVDAY_x</th>\n",
       "      <th>SAMPSTRAT</th>\n",
       "      <th>HOMEOWN_x</th>\n",
       "      <th>HHSIZE_x</th>\n",
       "      <th>HHVEHCNT_x</th>\n",
       "      <th>HHFAMINC_x</th>\n",
       "      <th>PC</th>\n",
       "      <th>SPHONE</th>\n",
       "      <th>TAB</th>\n",
       "      <th>...</th>\n",
       "      <th>HTEEMPDN_y</th>\n",
       "      <th>HBHTNRNT_y</th>\n",
       "      <th>HBPPOPDN_y</th>\n",
       "      <th>HBRESDN_y</th>\n",
       "      <th>GSYRGAL</th>\n",
       "      <th>GSTOTCST</th>\n",
       "      <th>FEGEMPG</th>\n",
       "      <th>FEGEMPGA</th>\n",
       "      <th>GSCOST</th>\n",
       "      <th>FEGEMPGF</th>\n",
       "    </tr>\n",
       "  </thead>\n",
       "  <tbody>\n",
       "    <tr>\n",
       "      <th>0</th>\n",
       "      <td>30000007</td>\n",
       "      <td>02</td>\n",
       "      <td>03</td>\n",
       "      <td>01</td>\n",
       "      <td>3.0</td>\n",
       "      <td>5.0</td>\n",
       "      <td>07</td>\n",
       "      <td>02</td>\n",
       "      <td>01</td>\n",
       "      <td>02</td>\n",
       "      <td>...</td>\n",
       "      <td>750</td>\n",
       "      <td>20</td>\n",
       "      <td>750</td>\n",
       "      <td>300</td>\n",
       "      <td>487.064221</td>\n",
       "      <td>1126.457778</td>\n",
       "      <td>30.0</td>\n",
       "      <td>-9.0</td>\n",
       "      <td>2.31275</td>\n",
       "      <td>01</td>\n",
       "    </tr>\n",
       "    <tr>\n",
       "      <th>1</th>\n",
       "      <td>30000007</td>\n",
       "      <td>02</td>\n",
       "      <td>03</td>\n",
       "      <td>01</td>\n",
       "      <td>3.0</td>\n",
       "      <td>5.0</td>\n",
       "      <td>07</td>\n",
       "      <td>02</td>\n",
       "      <td>01</td>\n",
       "      <td>02</td>\n",
       "      <td>...</td>\n",
       "      <td>750</td>\n",
       "      <td>20</td>\n",
       "      <td>750</td>\n",
       "      <td>300</td>\n",
       "      <td>250.899523</td>\n",
       "      <td>580.267873</td>\n",
       "      <td>19.0</td>\n",
       "      <td>-9.0</td>\n",
       "      <td>2.31275</td>\n",
       "      <td>01</td>\n",
       "    </tr>\n",
       "    <tr>\n",
       "      <th>2</th>\n",
       "      <td>30000007</td>\n",
       "      <td>02</td>\n",
       "      <td>03</td>\n",
       "      <td>01</td>\n",
       "      <td>3.0</td>\n",
       "      <td>5.0</td>\n",
       "      <td>07</td>\n",
       "      <td>02</td>\n",
       "      <td>01</td>\n",
       "      <td>02</td>\n",
       "      <td>...</td>\n",
       "      <td>750</td>\n",
       "      <td>20</td>\n",
       "      <td>750</td>\n",
       "      <td>300</td>\n",
       "      <td>444.462475</td>\n",
       "      <td>1027.930589</td>\n",
       "      <td>18.0</td>\n",
       "      <td>-9.0</td>\n",
       "      <td>2.31275</td>\n",
       "      <td>01</td>\n",
       "    </tr>\n",
       "    <tr>\n",
       "      <th>3</th>\n",
       "      <td>30000007</td>\n",
       "      <td>02</td>\n",
       "      <td>03</td>\n",
       "      <td>01</td>\n",
       "      <td>3.0</td>\n",
       "      <td>5.0</td>\n",
       "      <td>07</td>\n",
       "      <td>02</td>\n",
       "      <td>01</td>\n",
       "      <td>02</td>\n",
       "      <td>...</td>\n",
       "      <td>750</td>\n",
       "      <td>20</td>\n",
       "      <td>750</td>\n",
       "      <td>300</td>\n",
       "      <td>40.329575</td>\n",
       "      <td>93.272224</td>\n",
       "      <td>18.0</td>\n",
       "      <td>-9.0</td>\n",
       "      <td>2.31275</td>\n",
       "      <td>01</td>\n",
       "    </tr>\n",
       "    <tr>\n",
       "      <th>4</th>\n",
       "      <td>30000007</td>\n",
       "      <td>02</td>\n",
       "      <td>03</td>\n",
       "      <td>01</td>\n",
       "      <td>3.0</td>\n",
       "      <td>5.0</td>\n",
       "      <td>07</td>\n",
       "      <td>02</td>\n",
       "      <td>01</td>\n",
       "      <td>02</td>\n",
       "      <td>...</td>\n",
       "      <td>750</td>\n",
       "      <td>20</td>\n",
       "      <td>750</td>\n",
       "      <td>300</td>\n",
       "      <td>888.404197</td>\n",
       "      <td>2054.656806</td>\n",
       "      <td>14.0</td>\n",
       "      <td>-9.0</td>\n",
       "      <td>2.31275</td>\n",
       "      <td>01</td>\n",
       "    </tr>\n",
       "  </tbody>\n",
       "</table>\n",
       "<p>5 rows × 117 columns</p>\n",
       "</div>"
      ],
      "text/plain": [
       "    HOUSEID TRAVDAY_x SAMPSTRAT HOMEOWN_x  HHSIZE_x  HHVEHCNT_x HHFAMINC_x  \\\n",
       "0  30000007        02        03        01       3.0         5.0         07   \n",
       "1  30000007        02        03        01       3.0         5.0         07   \n",
       "2  30000007        02        03        01       3.0         5.0         07   \n",
       "3  30000007        02        03        01       3.0         5.0         07   \n",
       "4  30000007        02        03        01       3.0         5.0         07   \n",
       "\n",
       "   PC SPHONE TAB  ... HTEEMPDN_y HBHTNRNT_y HBPPOPDN_y HBRESDN_y     GSYRGAL  \\\n",
       "0  02     01  02  ...        750         20        750       300  487.064221   \n",
       "1  02     01  02  ...        750         20        750       300  250.899523   \n",
       "2  02     01  02  ...        750         20        750       300  444.462475   \n",
       "3  02     01  02  ...        750         20        750       300   40.329575   \n",
       "4  02     01  02  ...        750         20        750       300  888.404197   \n",
       "\n",
       "      GSTOTCST FEGEMPG FEGEMPGA   GSCOST FEGEMPGF  \n",
       "0  1126.457778    30.0     -9.0  2.31275       01  \n",
       "1   580.267873    19.0     -9.0  2.31275       01  \n",
       "2  1027.930589    18.0     -9.0  2.31275       01  \n",
       "3    93.272224    18.0     -9.0  2.31275       01  \n",
       "4  2054.656806    14.0     -9.0  2.31275       01  \n",
       "\n",
       "[5 rows x 117 columns]"
      ]
     },
     "execution_count": 15,
     "metadata": {},
     "output_type": "execute_result"
    }
   ],
   "source": [
    "data_hh_veh.head()"
   ]
  },
  {
   "cell_type": "code",
   "execution_count": 16,
   "metadata": {},
   "outputs": [
    {
     "data": {
      "text/plain": [
       "(256115, 117)"
      ]
     },
     "execution_count": 16,
     "metadata": {},
     "output_type": "execute_result"
    }
   ],
   "source": [
    "#Dimension of data\n",
    "data_hh_veh.shape"
   ]
  },
  {
   "cell_type": "code",
   "execution_count": 17,
   "metadata": {},
   "outputs": [],
   "source": [
    "#Place columns \n",
    "data_hh_columns = data_hh.columns\n",
    "data_veh_columns = data_veh.columns"
   ]
  },
  {
   "cell_type": "code",
   "execution_count": 18,
   "metadata": {},
   "outputs": [
    {
     "data": {
      "text/plain": [
       "35"
      ]
     },
     "execution_count": 18,
     "metadata": {},
     "output_type": "execute_result"
    }
   ],
   "source": [
    "#There are repeated columns based on documentation\n",
    "len(data_hh_columns.intersection(data_veh_columns))\n",
    "#58 + 60 - 35 = 83"
   ]
  },
  {
   "cell_type": "code",
   "execution_count": 19,
   "metadata": {},
   "outputs": [
    {
     "data": {
      "text/plain": [
       "(256115, 83)"
      ]
     },
     "execution_count": 19,
     "metadata": {},
     "output_type": "execute_result"
    }
   ],
   "source": [
    "#Based on documentation, there are supposed to be repeated columns across datasets\n",
    "data_hh_veh = data_hh_veh.loc[:, ~data_hh_veh.columns.str.endswith('_y')]\n",
    "data_hh_veh.shape"
   ]
  },
  {
   "cell_type": "code",
   "execution_count": 20,
   "metadata": {},
   "outputs": [
    {
     "data": {
      "text/plain": [
       "Index(['HOUSEID', 'TRAVDAY_x', 'SAMPSTRAT', 'HOMEOWN_x', 'HHSIZE_x',\n",
       "       'HHVEHCNT_x', 'HHFAMINC_x', 'PC', 'SPHONE', 'TAB', 'WALK', 'BIKE',\n",
       "       'CAR', 'TAXI', 'BUS', 'TRAIN', 'PARA', 'PRICE', 'PLACE', 'WALK2SAVE',\n",
       "       'BIKE2SAVE', 'PTRANS', 'HHRELATD', 'DRVRCNT_x', 'CNTTDHH', 'HHSTATE_x',\n",
       "       'HHSTFIPS_x', 'NUMADLT_x', 'YOUNGCHILD', 'WRKCOUNT_x', 'TDAYDATE_x',\n",
       "       'HHRESP', 'LIF_CYC_x', 'MSACAT_x', 'MSASIZE_x', 'RAIL_x', 'URBAN_x',\n",
       "       'URBANSIZE_x', 'URBRUR_x', 'SCRESP', 'CENSUS_D_x', 'CENSUS_R_x',\n",
       "       'CDIVMSAR_x', 'HH_RACE_x', 'HH_HISP_x', 'HH_CBSA_x', 'RESP_CNT',\n",
       "       'WEBUSE17', 'SMPLSRCE_x', 'WTHHFIN_x', 'HBHUR_x', 'HTHTNRNT_x',\n",
       "       'HTPPOPDN_x', 'HTRESDN_x', 'HTEEMPDN_x', 'HBHTNRNT_x', 'HBPPOPDN_x',\n",
       "       'HBRESDN_x', 'VEHID', 'VEHYEAR', 'VEHAGE', 'MAKE', 'MODEL', 'FUELTYPE',\n",
       "       'VEHTYPE', 'WHOMAIN', 'OD_READ', 'HFUEL', 'VEHOWNED', 'VEHOWNMO',\n",
       "       'ANNMILES', 'HYBRID', 'PERSONID', 'BESTMILE', 'BEST_FLG', 'BEST_EDT',\n",
       "       'BEST_OUT', 'GSYRGAL', 'GSTOTCST', 'FEGEMPG', 'FEGEMPGA', 'GSCOST',\n",
       "       'FEGEMPGF'],\n",
       "      dtype='object')"
      ]
     },
     "execution_count": 20,
     "metadata": {},
     "output_type": "execute_result"
    }
   ],
   "source": [
    "#Look at columns again\n",
    "data_hh_veh.columns"
   ]
  },
  {
   "cell_type": "code",
   "execution_count": 21,
   "metadata": {},
   "outputs": [],
   "source": [
    "#rename columns with \"_x\"\n",
    "data_hh_veh.columns = data_hh_veh.columns.str.rstrip('_x')"
   ]
  },
  {
   "cell_type": "code",
   "execution_count": 22,
   "metadata": {},
   "outputs": [
    {
     "data": {
      "text/plain": [
       "Index(['HOUSEID', 'TRAVDAY', 'SAMPSTRAT', 'HOMEOWN', 'HHSIZE', 'HHVEHCNT',\n",
       "       'HHFAMINC', 'PC', 'SPHONE', 'TAB', 'WALK', 'BIKE', 'CAR', 'TAXI', 'BUS',\n",
       "       'TRAIN', 'PARA', 'PRICE', 'PLACE', 'WALK2SAVE', 'BIKE2SAVE', 'PTRANS',\n",
       "       'HHRELATD', 'DRVRCNT', 'CNTTDHH', 'HHSTATE', 'HHSTFIPS', 'NUMADLT',\n",
       "       'YOUNGCHILD', 'WRKCOUNT', 'TDAYDATE', 'HHRESP', 'LIF_CYC', 'MSACAT',\n",
       "       'MSASIZE', 'RAIL', 'URBAN', 'URBANSIZE', 'URBRUR', 'SCRESP', 'CENSUS_D',\n",
       "       'CENSUS_R', 'CDIVMSAR', 'HH_RACE', 'HH_HISP', 'HH_CBSA', 'RESP_CNT',\n",
       "       'WEBUSE17', 'SMPLSRCE', 'WTHHFIN', 'HBHUR', 'HTHTNRNT', 'HTPPOPDN',\n",
       "       'HTRESDN', 'HTEEMPDN', 'HBHTNRNT', 'HBPPOPDN', 'HBRESDN', 'VEHID',\n",
       "       'VEHYEAR', 'VEHAGE', 'MAKE', 'MODEL', 'FUELTYPE', 'VEHTYPE', 'WHOMAIN',\n",
       "       'OD_READ', 'HFUEL', 'VEHOWNED', 'VEHOWNMO', 'ANNMILES', 'HYBRID',\n",
       "       'PERSONID', 'BESTMILE', 'BEST_FLG', 'BEST_EDT', 'BEST_OUT', 'GSYRGAL',\n",
       "       'GSTOTCST', 'FEGEMPG', 'FEGEMPGA', 'GSCOST', 'FEGEMPGF'],\n",
       "      dtype='object')"
      ]
     },
     "execution_count": 22,
     "metadata": {},
     "output_type": "execute_result"
    }
   ],
   "source": [
    "#Look at columns again\n",
    "data_hh_veh.columns"
   ]
  },
  {
   "cell_type": "code",
   "execution_count": 23,
   "metadata": {},
   "outputs": [],
   "source": [
    "#merge person, household data to vehicle data\n",
    "data_hh_veh_person = pd.merge(data_hh_veh,data_person,on=['HOUSEID','PERSONID'])"
   ]
  },
  {
   "cell_type": "code",
   "execution_count": 24,
   "metadata": {},
   "outputs": [
    {
     "data": {
      "text/html": [
       "<div>\n",
       "<style scoped>\n",
       "    .dataframe tbody tr th:only-of-type {\n",
       "        vertical-align: middle;\n",
       "    }\n",
       "\n",
       "    .dataframe tbody tr th {\n",
       "        vertical-align: top;\n",
       "    }\n",
       "\n",
       "    .dataframe thead th {\n",
       "        text-align: right;\n",
       "    }\n",
       "</style>\n",
       "<table border=\"1\" class=\"dataframe\">\n",
       "  <thead>\n",
       "    <tr style=\"text-align: right;\">\n",
       "      <th></th>\n",
       "      <th>HOUSEID</th>\n",
       "      <th>TRAVDAY_x</th>\n",
       "      <th>SAMPSTRAT</th>\n",
       "      <th>HOMEOWN_x</th>\n",
       "      <th>HHSIZE_x</th>\n",
       "      <th>HHVEHCNT_x</th>\n",
       "      <th>HHFAMINC_x</th>\n",
       "      <th>PC</th>\n",
       "      <th>SPHONE</th>\n",
       "      <th>TAB</th>\n",
       "      <th>...</th>\n",
       "      <th>SMPLSRCE_y</th>\n",
       "      <th>WTPERFIN</th>\n",
       "      <th>HBHUR_y</th>\n",
       "      <th>HTHTNRNT_y</th>\n",
       "      <th>HTPPOPDN_y</th>\n",
       "      <th>HTRESDN_y</th>\n",
       "      <th>HTEEMPDN_y</th>\n",
       "      <th>HBHTNRNT_y</th>\n",
       "      <th>HBPPOPDN_y</th>\n",
       "      <th>HBRESDN_y</th>\n",
       "    </tr>\n",
       "  </thead>\n",
       "  <tbody>\n",
       "    <tr>\n",
       "      <th>0</th>\n",
       "      <td>30000007</td>\n",
       "      <td>02</td>\n",
       "      <td>03</td>\n",
       "      <td>01</td>\n",
       "      <td>3.0</td>\n",
       "      <td>5.0</td>\n",
       "      <td>07</td>\n",
       "      <td>02</td>\n",
       "      <td>01</td>\n",
       "      <td>02</td>\n",
       "      <td>...</td>\n",
       "      <td>02</td>\n",
       "      <td>219.514210</td>\n",
       "      <td>T</td>\n",
       "      <td>50</td>\n",
       "      <td>1500</td>\n",
       "      <td>750</td>\n",
       "      <td>750</td>\n",
       "      <td>20</td>\n",
       "      <td>750</td>\n",
       "      <td>300</td>\n",
       "    </tr>\n",
       "    <tr>\n",
       "      <th>1</th>\n",
       "      <td>30000007</td>\n",
       "      <td>02</td>\n",
       "      <td>03</td>\n",
       "      <td>01</td>\n",
       "      <td>3.0</td>\n",
       "      <td>5.0</td>\n",
       "      <td>07</td>\n",
       "      <td>02</td>\n",
       "      <td>01</td>\n",
       "      <td>02</td>\n",
       "      <td>...</td>\n",
       "      <td>02</td>\n",
       "      <td>206.690153</td>\n",
       "      <td>T</td>\n",
       "      <td>50</td>\n",
       "      <td>1500</td>\n",
       "      <td>750</td>\n",
       "      <td>750</td>\n",
       "      <td>20</td>\n",
       "      <td>750</td>\n",
       "      <td>300</td>\n",
       "    </tr>\n",
       "    <tr>\n",
       "      <th>2</th>\n",
       "      <td>30000007</td>\n",
       "      <td>02</td>\n",
       "      <td>03</td>\n",
       "      <td>01</td>\n",
       "      <td>3.0</td>\n",
       "      <td>5.0</td>\n",
       "      <td>07</td>\n",
       "      <td>02</td>\n",
       "      <td>01</td>\n",
       "      <td>02</td>\n",
       "      <td>...</td>\n",
       "      <td>02</td>\n",
       "      <td>197.075742</td>\n",
       "      <td>T</td>\n",
       "      <td>50</td>\n",
       "      <td>1500</td>\n",
       "      <td>750</td>\n",
       "      <td>750</td>\n",
       "      <td>20</td>\n",
       "      <td>750</td>\n",
       "      <td>300</td>\n",
       "    </tr>\n",
       "    <tr>\n",
       "      <th>3</th>\n",
       "      <td>30000007</td>\n",
       "      <td>02</td>\n",
       "      <td>03</td>\n",
       "      <td>01</td>\n",
       "      <td>3.0</td>\n",
       "      <td>5.0</td>\n",
       "      <td>07</td>\n",
       "      <td>02</td>\n",
       "      <td>01</td>\n",
       "      <td>02</td>\n",
       "      <td>...</td>\n",
       "      <td>02</td>\n",
       "      <td>197.075742</td>\n",
       "      <td>T</td>\n",
       "      <td>50</td>\n",
       "      <td>1500</td>\n",
       "      <td>750</td>\n",
       "      <td>750</td>\n",
       "      <td>20</td>\n",
       "      <td>750</td>\n",
       "      <td>300</td>\n",
       "    </tr>\n",
       "    <tr>\n",
       "      <th>4</th>\n",
       "      <td>30000008</td>\n",
       "      <td>05</td>\n",
       "      <td>02</td>\n",
       "      <td>01</td>\n",
       "      <td>2.0</td>\n",
       "      <td>4.0</td>\n",
       "      <td>08</td>\n",
       "      <td>01</td>\n",
       "      <td>01</td>\n",
       "      <td>02</td>\n",
       "      <td>...</td>\n",
       "      <td>02</td>\n",
       "      <td>58.665911</td>\n",
       "      <td>R</td>\n",
       "      <td>05</td>\n",
       "      <td>300</td>\n",
       "      <td>300</td>\n",
       "      <td>150</td>\n",
       "      <td>05</td>\n",
       "      <td>300</td>\n",
       "      <td>300</td>\n",
       "    </tr>\n",
       "  </tbody>\n",
       "</table>\n",
       "<p>5 rows × 202 columns</p>\n",
       "</div>"
      ],
      "text/plain": [
       "    HOUSEID TRAVDAY_x SAMPSTRAT HOMEOWN_x  HHSIZE_x  HHVEHCNT_x HHFAMINC_x  \\\n",
       "0  30000007        02        03        01       3.0         5.0         07   \n",
       "1  30000007        02        03        01       3.0         5.0         07   \n",
       "2  30000007        02        03        01       3.0         5.0         07   \n",
       "3  30000007        02        03        01       3.0         5.0         07   \n",
       "4  30000008        05        02        01       2.0         4.0         08   \n",
       "\n",
       "   PC SPHONE TAB  ... SMPLSRCE_y    WTPERFIN HBHUR_y HTHTNRNT_y HTPPOPDN_y  \\\n",
       "0  02     01  02  ...         02  219.514210       T         50       1500   \n",
       "1  02     01  02  ...         02  206.690153       T         50       1500   \n",
       "2  02     01  02  ...         02  197.075742       T         50       1500   \n",
       "3  02     01  02  ...         02  197.075742       T         50       1500   \n",
       "4  01     01  02  ...         02   58.665911       R         05        300   \n",
       "\n",
       "  HTRESDN_y HTEEMPDN_y HBHTNRNT_y HBPPOPDN_y HBRESDN_y  \n",
       "0       750        750         20        750       300  \n",
       "1       750        750         20        750       300  \n",
       "2       750        750         20        750       300  \n",
       "3       750        750         20        750       300  \n",
       "4       300        150         05        300       300  \n",
       "\n",
       "[5 rows x 202 columns]"
      ]
     },
     "execution_count": 24,
     "metadata": {},
     "output_type": "execute_result"
    }
   ],
   "source": [
    "data_hh_veh_person.head()"
   ]
  },
  {
   "cell_type": "code",
   "execution_count": 25,
   "metadata": {},
   "outputs": [
    {
     "data": {
      "text/plain": [
       "(250200, 202)"
      ]
     },
     "execution_count": 25,
     "metadata": {},
     "output_type": "execute_result"
    }
   ],
   "source": [
    "data_hh_veh_person.shape"
   ]
  },
  {
   "cell_type": "code",
   "execution_count": 26,
   "metadata": {},
   "outputs": [],
   "source": [
    "#Look at columns\n",
    "data_hh_veh_columns = data_hh_veh.columns\n",
    "data_person_columns = data_person.columns"
   ]
  },
  {
   "cell_type": "code",
   "execution_count": 27,
   "metadata": {},
   "outputs": [
    {
     "data": {
      "text/plain": [
       "36"
      ]
     },
     "execution_count": 27,
     "metadata": {},
     "output_type": "execute_result"
    }
   ],
   "source": [
    "len(data_hh_veh_columns.intersection(data_person_columns))\n",
    "#83+121-36 = 168"
   ]
  },
  {
   "cell_type": "code",
   "execution_count": 28,
   "metadata": {},
   "outputs": [
    {
     "data": {
      "text/plain": [
       "(250200, 168)"
      ]
     },
     "execution_count": 28,
     "metadata": {},
     "output_type": "execute_result"
    }
   ],
   "source": [
    "#Based on documentation, there are supposed to be repeated columns across datasets\n",
    "data_hh_veh_person = data_hh_veh_person.loc[:, ~data_hh_veh_person.columns.str.endswith('_y')]\n",
    "data_hh_veh_person.shape"
   ]
  },
  {
   "cell_type": "code",
   "execution_count": 29,
   "metadata": {},
   "outputs": [
    {
     "data": {
      "text/plain": [
       "Index(['HOUSEID', 'TRAVDAY_x', 'SAMPSTRAT', 'HOMEOWN_x', 'HHSIZE_x',\n",
       "       'HHVEHCNT_x', 'HHFAMINC_x', 'PC', 'SPHONE', 'TAB',\n",
       "       ...\n",
       "       'BIKE_DFR', 'BIKE_GKP', 'CONDTRAV', 'CONDRIDE', 'CONDNIGH', 'CONDRIVE',\n",
       "       'CONDPUB', 'CONDSPEC', 'CONDTAX', 'WTPERFIN'],\n",
       "      dtype='object', length=168)"
      ]
     },
     "execution_count": 29,
     "metadata": {},
     "output_type": "execute_result"
    }
   ],
   "source": [
    "#Look at columns\n",
    "data_hh_veh_person.columns"
   ]
  },
  {
   "cell_type": "code",
   "execution_count": 30,
   "metadata": {},
   "outputs": [],
   "source": [
    "#rename columns with \"_x\"\n",
    "data_hh_veh_person.columns = data_hh_veh_person.columns.str.rstrip('_x')"
   ]
  },
  {
   "cell_type": "code",
   "execution_count": 31,
   "metadata": {},
   "outputs": [
    {
     "data": {
      "text/plain": [
       "Index(['HOUSEID', 'TRAVDAY', 'SAMPSTRAT', 'HOMEOWN', 'HHSIZE', 'HHVEHCNT',\n",
       "       'HHFAMINC', 'PC', 'SPHONE', 'TAB',\n",
       "       ...\n",
       "       'BIKE_DFR', 'BIKE_GKP', 'CONDTRAV', 'CONDRIDE', 'CONDNIGH', 'CONDRIVE',\n",
       "       'CONDPUB', 'CONDSPEC', 'CONDTAX', 'WTPERFIN'],\n",
       "      dtype='object', length=168)"
      ]
     },
     "execution_count": 31,
     "metadata": {},
     "output_type": "execute_result"
    }
   ],
   "source": [
    "#Look at columns again\n",
    "data_hh_veh_person.columns"
   ]
  },
  {
   "cell_type": "code",
   "execution_count": null,
   "metadata": {},
   "outputs": [],
   "source": [
    "#merge person, household data, vehicle data to trip data\n",
    "data_hh_veh_person_trip = pd.merge(data_hh_veh_person,data_trip,on=['HOUSEID','PERSONID'])"
   ]
  },
  {
   "cell_type": "code",
   "execution_count": null,
   "metadata": {},
   "outputs": [],
   "source": [
    "#review first few rows\n",
    "data_hh_veh_person_trip.head()"
   ]
  },
  {
   "cell_type": "code",
   "execution_count": null,
   "metadata": {},
   "outputs": [],
   "source": [
    "#review dimension\n",
    "data_hh_veh_person_trip.shape"
   ]
  },
  {
   "cell_type": "code",
   "execution_count": null,
   "metadata": {},
   "outputs": [],
   "source": [
    "#Look at columns\n",
    "data_hh_veh_person_trip.columns"
   ]
  },
  {
   "cell_type": "code",
   "execution_count": null,
   "metadata": {},
   "outputs": [],
   "source": [
    "#Look at columns\n",
    "data_hh_veh_person_columns = data_hh_veh_person.columns\n",
    "data_trip_columns = data_trip.columns"
   ]
  },
  {
   "cell_type": "code",
   "execution_count": null,
   "metadata": {},
   "outputs": [],
   "source": [
    "#There are repeated columns based on documentation\n",
    "len(data_hh_veh_person_columns.intersection(data_trip_columns))\n",
    "#168+115-39 = 244168"
   ]
  },
  {
   "cell_type": "code",
   "execution_count": null,
   "metadata": {},
   "outputs": [],
   "source": [
    "#Based on documentation, there are supposed to be repeated columns across datasets\n",
    "data_hh_veh_person_trip = data_hh_veh_person_trip.loc[:, ~data_hh_veh_person_trip.columns.str.endswith('_y')]\n",
    "data_hh_veh_person_trip.shape"
   ]
  },
  {
   "cell_type": "code",
   "execution_count": null,
   "metadata": {},
   "outputs": [],
   "source": [
    "#Look at columns\n",
    "data_hh_veh_person_trip.columns"
   ]
  },
  {
   "cell_type": "code",
   "execution_count": null,
   "metadata": {},
   "outputs": [],
   "source": [
    "#rename columns with \"_x\"\n",
    "data_hh_veh_person_trip.columns = data_hh_veh_person_trip.columns.str.rstrip('_x')"
   ]
  },
  {
   "cell_type": "code",
   "execution_count": null,
   "metadata": {},
   "outputs": [],
   "source": [
    "#Look at columns again\n",
    "data_hh_veh_person_trip.columns"
   ]
  },
  {
   "cell_type": "code",
   "execution_count": null,
   "metadata": {},
   "outputs": [],
   "source": [
    "data_hh_veh_person_trip.head()"
   ]
  },
  {
   "cell_type": "code",
   "execution_count": null,
   "metadata": {},
   "outputs": [],
   "source": [
    "#rename the data\n",
    "data = data_hh_veh_person_trip"
   ]
  },
  {
   "cell_type": "code",
   "execution_count": null,
   "metadata": {},
   "outputs": [],
   "source": [
    "#no missing in the dataset based on the documentation\n",
    "data.info(verbose=True)"
   ]
  },
  {
   "cell_type": "code",
   "execution_count": null,
   "metadata": {
    "scrolled": false
   },
   "outputs": [],
   "source": [
    "#reorder variables\n",
    "first_cols = ['PERSONID','VEHID']\n",
    "last_cols = [col for col in data.columns if col not in first_cols]\n",
    "len(last_cols)"
   ]
  },
  {
   "cell_type": "code",
   "execution_count": null,
   "metadata": {},
   "outputs": [],
   "source": [
    "#reorder variables\n",
    "data1 = data[first_cols+last_cols]"
   ]
  },
  {
   "cell_type": "code",
   "execution_count": null,
   "metadata": {},
   "outputs": [],
   "source": [
    "#Get first few rows\n",
    "data1.head()"
   ]
  },
  {
   "cell_type": "code",
   "execution_count": null,
   "metadata": {},
   "outputs": [],
   "source": [
    "#Dimension\n",
    "data1.shape"
   ]
  },
  {
   "cell_type": "code",
   "execution_count": null,
   "metadata": {},
   "outputs": [],
   "source": [
    "#Import codebook\n",
    "codebook = pd.read_excel(\"../Capstone_Two_Other_Material/codebook_v1.2.xlsx\")"
   ]
  },
  {
   "cell_type": "code",
   "execution_count": null,
   "metadata": {},
   "outputs": [],
   "source": [
    "#Look at first few rows\n",
    "codebook.head()"
   ]
  },
  {
   "cell_type": "code",
   "execution_count": null,
   "metadata": {},
   "outputs": [],
   "source": [
    "#forward fill\n",
    "codebook = codebook.fillna(method='ffill')"
   ]
  },
  {
   "cell_type": "code",
   "execution_count": null,
   "metadata": {},
   "outputs": [],
   "source": [
    "#Get first few rows\n",
    "codebook.head()"
   ]
  },
  {
   "cell_type": "code",
   "execution_count": null,
   "metadata": {},
   "outputs": [],
   "source": [
    "#reshape codebook\n",
    "codebook_reshape = codebook.groupby(['Name','Type'])['Code / Range'].agg('='.join).reset_index()"
   ]
  },
  {
   "cell_type": "code",
   "execution_count": null,
   "metadata": {},
   "outputs": [],
   "source": [
    "#get dimension\n",
    "codebook_reshape.shape"
   ]
  },
  {
   "cell_type": "code",
   "execution_count": null,
   "metadata": {},
   "outputs": [],
   "source": [
    "#Get first few rows\n",
    "codebook_reshape.head()"
   ]
  },
  {
   "cell_type": "code",
   "execution_count": null,
   "metadata": {},
   "outputs": [],
   "source": [
    "#Get last few rows\n",
    "codebook_reshape.tail()"
   ]
  },
  {
   "cell_type": "code",
   "execution_count": null,
   "metadata": {},
   "outputs": [],
   "source": [
    "#Split with equal\n",
    "codebook_reshape['New'] = codebook_reshape['Code / Range'].str.split('=')"
   ]
  },
  {
   "cell_type": "code",
   "execution_count": null,
   "metadata": {},
   "outputs": [],
   "source": [
    "#get first few rows\n",
    "codebook_reshape.head()"
   ]
  },
  {
   "cell_type": "code",
   "execution_count": null,
   "metadata": {},
   "outputs": [],
   "source": [
    "#Create new column\n",
    "codebook_reshape['New_m'] = codebook_reshape['New'].apply(lambda x: dict(zip(x[::2], x[1::2])))\n",
    "codebook_reshape"
   ]
  },
  {
   "cell_type": "code",
   "execution_count": null,
   "metadata": {},
   "outputs": [],
   "source": [
    "#subset for only char\n",
    "codebook_reshape_c = codebook_reshape[codebook_reshape['Type']=='C']\n",
    "codebook_reshape_c "
   ]
  },
  {
   "cell_type": "code",
   "execution_count": null,
   "metadata": {},
   "outputs": [],
   "source": [
    "#create a dict variables to loop\n",
    "val_label = dict(zip(codebook_reshape_c.Name,codebook_reshape_c.New_m))"
   ]
  },
  {
   "cell_type": "code",
   "execution_count": null,
   "metadata": {},
   "outputs": [],
   "source": [
    "#add labels and make variables string\n",
    "for key, val in val_label.items():\n",
    "    data1[key].replace(val,inplace=True)"
   ]
  },
  {
   "cell_type": "code",
   "execution_count": null,
   "metadata": {},
   "outputs": [],
   "source": [
    "#get dimension\n",
    "data1.shape"
   ]
  },
  {
   "cell_type": "code",
   "execution_count": null,
   "metadata": {},
   "outputs": [],
   "source": [
    "#review first few columns\n",
    "data1.head()"
   ]
  },
  {
   "cell_type": "code",
   "execution_count": null,
   "metadata": {},
   "outputs": [],
   "source": [
    "#Get information about dataset\n",
    "data1.info(verbose=True)"
   ]
  },
  {
   "cell_type": "code",
   "execution_count": null,
   "metadata": {},
   "outputs": [],
   "source": [
    "codebook_reshape_n = codebook_reshape[codebook_reshape['Type']=='N']\n",
    "codebook_reshape_n"
   ]
  },
  {
   "cell_type": "markdown",
   "metadata": {},
   "source": [
    "1) Should the value labels given below become NA? <br>\n",
    "-9=Not ascertained\n",
    "-8=I don't know\n",
    "-7=I prefer not to answer\n",
    "\n",
    "2) These data have already been reviewed by Data Analysts and Data Managers\n",
    "Should I still check for outliers??\n",
    "\n",
    "3) How do I deal with numeric variables that seem to have labels?\n",
    "\n",
    "4) Is there an easier way to apply labels?\n",
    "\n",
    "5) Some of the datasets take a long time to import. Is there an faster way to import the datasets?\n",
    "\n",
    "6) Should I include the trip dataset? <br>\n",
    "It is based on a day's trip. Would it be useful to use this dataset to predict EV adoption?"
   ]
  },
  {
   "cell_type": "markdown",
   "metadata": {},
   "source": [
    "Reference: <br>\n",
    "U.S. Department of Transportation, Federal Highway Administration, 2017 National Household Travel Survey. URL: http://nhts.ornl.gov."
   ]
  },
  {
   "cell_type": "code",
   "execution_count": null,
   "metadata": {},
   "outputs": [],
   "source": []
  }
 ],
 "metadata": {
  "kernelspec": {
   "display_name": "Python 3",
   "language": "python",
   "name": "python3"
  },
  "language_info": {
   "codemirror_mode": {
    "name": "ipython",
    "version": 3
   },
   "file_extension": ".py",
   "mimetype": "text/x-python",
   "name": "python",
   "nbconvert_exporter": "python",
   "pygments_lexer": "ipython3",
   "version": "3.7.6"
  }
 },
 "nbformat": 4,
 "nbformat_minor": 4
}
